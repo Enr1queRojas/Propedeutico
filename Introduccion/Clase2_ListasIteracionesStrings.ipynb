{
  "nbformat": 4,
  "nbformat_minor": 0,
  "metadata": {
    "kernelspec": {
      "display_name": "Python 3",
      "language": "python",
      "name": "python3"
    },
    "language_info": {
      "codemirror_mode": {
        "name": "ipython",
        "version": 3
      },
      "file_extension": ".py",
      "mimetype": "text/x-python",
      "name": "python",
      "nbconvert_exporter": "python",
      "pygments_lexer": "ipython3",
      "version": "3.8.5"
    },
    "colab": {
      "name": "Clase2_ListasIteracionesStrings.ipynb",
      "provenance": []
    }
  },
  "cells": [
    {
      "cell_type": "markdown",
      "metadata": {
        "id": "PM4T1W4tsHs5"
      },
      "source": [
        "<img style=\"float: left;;\" src='https://github.com/Enr1queRojas/Propedeutico/blob/main/Introduccion/Imagenes/iteso.jpg?raw=1' width=\"50\" height=\"100\"/></a>\n",
        "\n",
        "# <center> <font color= #000047> Introducción a Python: Listas, Iteraciones y Strings"
      ]
    },
    {
      "cell_type": "code",
      "metadata": {
        "id": "kc9XV0wGsNuD"
      },
      "source": [
        ""
      ],
      "execution_count": null,
      "outputs": []
    },
    {
      "cell_type": "markdown",
      "metadata": {
        "id": "RaKilJrVsHta"
      },
      "source": [
        "\n",
        "<img style=\"float: right; margin: 0px 0px 15px 15px;\" src=\"https://www.python.org/static/community_logos/python-logo.png\" width=\"200px\" height=\"200px\" />\n",
        "\n",
        "> Ya conocemos un poco más de la sintaxis de Python, como hacer funciones y como usar condicionales. Es hora que veamos otros tipos de variables (arreglos) y cómo hacer líneas de código que ejecuten operaciones repetitivas.\n",
        "\n",
        "Referencias:\n",
        "- https://www.kaggle.com/learn/python\n",
        "___"
      ]
    },
    {
      "cell_type": "markdown",
      "metadata": {
        "id": "D6tG994vsHuC"
      },
      "source": [
        "# 1. Listas\n",
        "\n",
        "Las listas son objetos en Python representan secuencias ordenadas de valores. \n",
        "\n",
        "Veamos un par de ejemplos de como crearlas:"
      ]
    },
    {
      "cell_type": "code",
      "metadata": {
        "id": "EHO-87g1sHue"
      },
      "source": [
        "# Primeros números primos\n",
        "\n",
        "# Planetas del sistema solar\n"
      ],
      "execution_count": null,
      "outputs": []
    },
    {
      "cell_type": "code",
      "metadata": {
        "id": "tkshBm89sHum"
      },
      "source": [
        ""
      ],
      "execution_count": null,
      "outputs": []
    },
    {
      "cell_type": "code",
      "metadata": {
        "id": "bIFISht9sHu3"
      },
      "source": [
        ""
      ],
      "execution_count": null,
      "outputs": []
    },
    {
      "cell_type": "markdown",
      "metadata": {
        "id": "U5OtFE1JsHva"
      },
      "source": [
        "Vemos que las listas no son exclusivamente de números. \n",
        "\n",
        "Ya vimos listas de números, pero también de strings.\n",
        "\n",
        "Incluso, se pueden hacer listas de listas:"
      ]
    },
    {
      "cell_type": "code",
      "metadata": {
        "id": "fH_wmcjNsHwN"
      },
      "source": [
        ""
      ],
      "execution_count": null,
      "outputs": []
    },
    {
      "cell_type": "code",
      "metadata": {
        "id": "f2Zer0v1sHwn"
      },
      "source": [
        ""
      ],
      "execution_count": null,
      "outputs": []
    },
    {
      "cell_type": "markdown",
      "metadata": {
        "id": "3JdxMZojsHxL"
      },
      "source": [
        "Aún más, se pueden hacer listas de diferentes tipos de objetos:"
      ]
    },
    {
      "cell_type": "code",
      "metadata": {
        "id": "2DuGZbn9sHxT"
      },
      "source": [
        ""
      ],
      "execution_count": null,
      "outputs": []
    },
    {
      "cell_type": "markdown",
      "metadata": {
        "id": "eg09k83GsHxa"
      },
      "source": [
        "Sin duda, en muchas ocasiones nos será muy útil tener una sola lista guardando varios resultados, que muchos resultados guardados en objetos individuales.\n",
        "\n",
        "Pero, una vez en la lista, ¿cómo accedemos a los objetos individuales?"
      ]
    },
    {
      "cell_type": "markdown",
      "metadata": {
        "id": "eDlHCn6FsHx7"
      },
      "source": [
        "## 1.1 Indizado\n",
        "\n",
        "Podemos acceder a los elementos individuales pertenecientes a la lista a través de brackets ([])\n",
        "\n",
        "Por ejemplo, ¿cuál planeta está más cercano al sol en nuestro sistema solar?\n",
        "\n",
        "- Acá una nota importante: Python usa índices comenzando en cero (0):"
      ]
    },
    {
      "cell_type": "code",
      "metadata": {
        "id": "31Q2q-4csHyK"
      },
      "source": [
        "# Planeta más cercano al sol\n"
      ],
      "execution_count": null,
      "outputs": []
    },
    {
      "cell_type": "code",
      "metadata": {
        "id": "uKSsYq9_sHyZ"
      },
      "source": [
        "# Siguiente planeta\n"
      ],
      "execution_count": null,
      "outputs": []
    },
    {
      "cell_type": "markdown",
      "metadata": {
        "id": "LefjNOT_sHyh"
      },
      "source": [
        "Todo bien...\n",
        "\n",
        "Ahora, ¿cuál es el planeta más alejado del sol?\n",
        "\n",
        "- Los elementos de una lista pueden tambien ser accedidos de atrás para adelante, utilizando números negativos:"
      ]
    },
    {
      "cell_type": "code",
      "metadata": {
        "id": "TfAz34M-sHyp"
      },
      "source": [
        "# Planeta más alejado del sol\n"
      ],
      "execution_count": null,
      "outputs": []
    },
    {
      "cell_type": "code",
      "metadata": {
        "id": "icjF1dO_sHyp"
      },
      "source": [
        "# Segundo planeta más alejado\n"
      ],
      "execution_count": null,
      "outputs": []
    },
    {
      "cell_type": "markdown",
      "metadata": {
        "id": "fj73yU1YsHy4"
      },
      "source": [
        "Muy bien...\n",
        "\n",
        "Y si quisiéramos averiguar, por ejemplo, ¿cuáles son los tres planetas más cercanos al sol?"
      ]
    },
    {
      "cell_type": "code",
      "metadata": {
        "id": "nq0-HLVZsHy_"
      },
      "source": [
        "# Tres primeros planetas\n"
      ],
      "execution_count": null,
      "outputs": []
    },
    {
      "cell_type": "markdown",
      "metadata": {
        "id": "WFzpLxR-sHzH"
      },
      "source": [
        "Entonces `lista[a:b]` es nuestra manera de preguntar por todos los elementos de la lista con índice comenzando en `a` y continuando hasta `b` sin incluir (es decir, hasta `b-1`).\n",
        "\n",
        "Los índices de comienzo y de término son opcionales:\n",
        "- Si no ponemos el índice de inicio, se asume que es cero (0): `lista[:b] == lista[0:b]`"
      ]
    },
    {
      "cell_type": "code",
      "metadata": {
        "id": "e3Ku9WREsHzI"
      },
      "source": [
        "# Reescribir la expresión anterior\n"
      ],
      "execution_count": null,
      "outputs": []
    },
    {
      "cell_type": "code",
      "metadata": {
        "id": "XXx9wXzBsHzP"
      },
      "source": [
        ""
      ],
      "execution_count": null,
      "outputs": []
    },
    {
      "cell_type": "markdown",
      "metadata": {
        "id": "hSFaHGUnsHzX"
      },
      "source": [
        "- Equivalentemente, si no ponemos el índice de fin, se asume que este equivale a la longitud de la lista:"
      ]
    },
    {
      "cell_type": "code",
      "metadata": {
        "id": "6LZEYmrOsHzX"
      },
      "source": [
        "# Lista de todos los planetas comenzando desde el planeta tierra\n"
      ],
      "execution_count": null,
      "outputs": []
    },
    {
      "cell_type": "markdown",
      "metadata": {
        "id": "Th-ykEDDsHzf"
      },
      "source": [
        "También podemos usar índices negativos cuando accedemos a varios objetos.\n",
        "\n",
        "Por ejemplo, ¿qué obtenemos con las siguientes expresión?"
      ]
    },
    {
      "cell_type": "code",
      "metadata": {
        "id": "Uhoh46FTsHzv"
      },
      "source": [
        ""
      ],
      "execution_count": null,
      "outputs": []
    },
    {
      "cell_type": "markdown",
      "metadata": {
        "id": "jg2O3H9ksHzv"
      },
      "source": [
        "```python\n",
        "lista[n:n + N] = [lista[n], lista[n + 1], ..., lista[n + N - 1]]\n",
        "```"
      ]
    },
    {
      "cell_type": "code",
      "metadata": {
        "id": "Gk-zghAMsHzv"
      },
      "source": [
        ""
      ],
      "execution_count": null,
      "outputs": []
    },
    {
      "cell_type": "markdown",
      "metadata": {
        "id": "_saIR2W5sHz3"
      },
      "source": [
        "Slice:\n",
        "\n",
        "```python\n",
        "lista[n:n+N:s] = [lista[n], lista[n + s], lista[n + 2 * s], ..., ]\n",
        "```"
      ]
    },
    {
      "cell_type": "code",
      "metadata": {
        "id": "KjuMrqEMsHz3"
      },
      "source": [
        ""
      ],
      "execution_count": null,
      "outputs": []
    },
    {
      "cell_type": "code",
      "metadata": {
        "id": "0r_gL2bpsHz4"
      },
      "source": [
        ""
      ],
      "execution_count": null,
      "outputs": []
    },
    {
      "cell_type": "code",
      "metadata": {
        "id": "iieHxALysHz4"
      },
      "source": [
        "# Elementos de la lista en reverso (al revés)\n"
      ],
      "execution_count": null,
      "outputs": []
    },
    {
      "cell_type": "markdown",
      "metadata": {
        "id": "aJmRZVRgsH0A"
      },
      "source": [
        "## 1.2 Modificando listas\n",
        "\n",
        "Las listas son objetos \"mutables\", es decir, sus objetos pueden ser modificados directamente en la lista.\n",
        "\n",
        "Una manera de modificar una lista es asignar a un índice.\n",
        "\n",
        "Por ejemplo, supongamos que la comunidad científica, con argumentos basados en la composición del planeta, decidió modificar el nombre de \"Planeta Tierra\" a \"Planeta Agua\"."
      ]
    },
    {
      "cell_type": "code",
      "metadata": {
        "id": "lYXzMjnlsH0A"
      },
      "source": [
        ""
      ],
      "execution_count": null,
      "outputs": []
    },
    {
      "cell_type": "code",
      "metadata": {
        "id": "62KN-RJasH0A"
      },
      "source": [
        ""
      ],
      "execution_count": null,
      "outputs": []
    },
    {
      "cell_type": "code",
      "metadata": {
        "id": "LGac_hj0sH0I"
      },
      "source": [
        ""
      ],
      "execution_count": null,
      "outputs": []
    },
    {
      "cell_type": "markdown",
      "metadata": {
        "id": "CjLwFmK7sH0I"
      },
      "source": [
        "También podemos cambiar varios elementos de la lista a la vez:"
      ]
    },
    {
      "cell_type": "code",
      "metadata": {
        "id": "kgHKFBZ1sH0I"
      },
      "source": [
        ""
      ],
      "execution_count": null,
      "outputs": []
    },
    {
      "cell_type": "code",
      "metadata": {
        "id": "DAG-A5_FsH0J"
      },
      "source": [
        ""
      ],
      "execution_count": null,
      "outputs": []
    },
    {
      "cell_type": "markdown",
      "metadata": {
        "id": "o4EaAdCIsH0J"
      },
      "source": [
        "## 1.3 Funciones sobre listas\n",
        "\n",
        "Python posee varias funciones supremamente útiles para trabajar con listas.\n",
        "\n",
        "`len()` nos proporciona la longitud (número de elementos) de una lista:"
      ]
    },
    {
      "cell_type": "code",
      "metadata": {
        "id": "6xjrHQ5fsH0J"
      },
      "source": [
        "# función len()\n"
      ],
      "execution_count": null,
      "outputs": []
    },
    {
      "cell_type": "code",
      "metadata": {
        "id": "LO0jkcd5sH0J"
      },
      "source": [
        ""
      ],
      "execution_count": null,
      "outputs": []
    },
    {
      "cell_type": "markdown",
      "metadata": {
        "id": "gw6hcP1qsH0R"
      },
      "source": [
        "`sorted()` nos regresa una versión ordenada de una lista:"
      ]
    },
    {
      "cell_type": "code",
      "metadata": {
        "id": "3G0BOIWzsH0R"
      },
      "source": [
        "# Ayuda en la función sorted\n"
      ],
      "execution_count": null,
      "outputs": []
    },
    {
      "cell_type": "code",
      "metadata": {
        "id": "livYNAlVsH0R"
      },
      "source": [
        "# Llamar la función sorted sobre primos\n"
      ],
      "execution_count": null,
      "outputs": []
    },
    {
      "cell_type": "code",
      "metadata": {
        "id": "TjJEMNgSsH0S",
        "outputId": "1b1d491c-21ac-4b8f-930d-9bb9d43cf842",
        "colab": {
          "base_uri": "https://localhost:8080/",
          "height": 130
        }
      },
      "source": [
        "planetas = ['Mercurio','Venus','Vierra','Marte','Jupiter','Staurno','Urano','Neptuno']"
      ],
      "execution_count": 10,
      "outputs": [
        {
          "output_type": "error",
          "ename": "SyntaxError",
          "evalue": "ignored",
          "traceback": [
            "\u001b[0;36m  File \u001b[0;32m\"<ipython-input-10-f5d22a07a9ee>\"\u001b[0;36m, line \u001b[0;32m1\u001b[0m\n\u001b[0;31m    def Planetas = ['Mercurio','Venus','Vierra','Marte','Jupiter','Staurno','Urano','Neptuno']\u001b[0m\n\u001b[0m                 ^\u001b[0m\n\u001b[0;31mSyntaxError\u001b[0m\u001b[0;31m:\u001b[0m invalid syntax\n"
          ]
        }
      ]
    },
    {
      "cell_type": "code",
      "metadata": {
        "id": "PeT1r40BsH0S",
        "outputId": "210881f6-028d-4c93-a56e-8c896062c746",
        "colab": {
          "base_uri": "https://localhost:8080/"
        }
      },
      "source": [
        "Planetas"
      ],
      "execution_count": 13,
      "outputs": [
        {
          "output_type": "execute_result",
          "data": {
            "text/plain": [
              "['Mercurio',\n",
              " 'Venus',\n",
              " 'Vierra',\n",
              " 'Marte',\n",
              " 'Jupiter',\n",
              " 'Staurno',\n",
              " 'Urano',\n",
              " 'Neptuno']"
            ]
          },
          "metadata": {},
          "execution_count": 13
        }
      ]
    },
    {
      "cell_type": "code",
      "metadata": {
        "id": "YsDV8GVcsH0S"
      },
      "source": [
        "# Llamar la función sorted sobre planetas\n",
        "def long_str2 (s):\n",
        "  return len(s)"
      ],
      "execution_count": null,
      "outputs": []
    },
    {
      "cell_type": "code",
      "metadata": {
        "id": "kq7H08Y-sH0S"
      },
      "source": [
        "long_str2 = lambda s: len(s)"
      ],
      "execution_count": 14,
      "outputs": []
    },
    {
      "cell_type": "code",
      "metadata": {
        "id": "-9_GE4ayzpLP"
      },
      "source": [
        ""
      ],
      "execution_count": null,
      "outputs": []
    },
    {
      "cell_type": "markdown",
      "metadata": {
        "id": "zE379hZqsH0T"
      },
      "source": [
        "**Paréntesis: Funciones anónimas**\n",
        "\n",
        "Las funciones anónimas comienzan con la palabra clave `lambda` seguidas por el (los) argumento(s) de la función. Después de `:` se escribe lo que retorna la función."
      ]
    },
    {
      "cell_type": "code",
      "metadata": {
        "id": "muHwpMTwsH0T",
        "outputId": "6b7088db-ac46-41d8-9e8d-7e893842dd2a",
        "colab": {
          "base_uri": "https://localhost:8080/"
        }
      },
      "source": [
        "sorted(planetas,key=long_str2)"
      ],
      "execution_count": 18,
      "outputs": [
        {
          "output_type": "execute_result",
          "data": {
            "text/plain": [
              "['Venus', 'Tierra', 'Mercurio']"
            ]
          },
          "metadata": {},
          "execution_count": 18
        }
      ]
    },
    {
      "cell_type": "markdown",
      "metadata": {
        "id": "GlVw5VUDsH0T"
      },
      "source": [
        "`sum()`, ya se imaginarán que hace:"
      ]
    },
    {
      "cell_type": "code",
      "metadata": {
        "id": "KolC1d_FsH0T"
      },
      "source": [
        "# Ayuda en la función sum\n"
      ],
      "execution_count": null,
      "outputs": []
    },
    {
      "cell_type": "code",
      "metadata": {
        "id": "9jrSxbnNsH0T"
      },
      "source": [
        "# sum\n"
      ],
      "execution_count": null,
      "outputs": []
    },
    {
      "cell_type": "markdown",
      "metadata": {
        "id": "1CnHmlubsH0U"
      },
      "source": [
        "En la clase pasada utilizamos las funciones `min()` y `max()` sobre varios argumentos.\n",
        "\n",
        "También le podemos pasar un solo argumento tipo lista."
      ]
    },
    {
      "cell_type": "code",
      "metadata": {
        "id": "J2pQZojDsH0U",
        "outputId": "7007e030-b418-46b7-ceac-e9f38d4d3df0",
        "colab": {
          "base_uri": "https://localhost:8080/"
        }
      },
      "source": [
        "# min\n",
        "primos = [2,5,3,7]\n",
        "print(min(primos))"
      ],
      "execution_count": 21,
      "outputs": [
        {
          "output_type": "stream",
          "name": "stdout",
          "text": [
            "2\n"
          ]
        }
      ]
    },
    {
      "cell_type": "code",
      "metadata": {
        "id": "lIDKs2_dsH0U",
        "outputId": "2dfc39d0-aa0a-4b33-be31-94fc78d9b3ba",
        "colab": {
          "base_uri": "https://localhost:8080/"
        }
      },
      "source": [
        "# max\n",
        "print(max(primos))"
      ],
      "execution_count": 22,
      "outputs": [
        {
          "output_type": "stream",
          "name": "stdout",
          "text": [
            "7\n"
          ]
        }
      ]
    },
    {
      "cell_type": "code",
      "metadata": {
        "id": "N4hKs00Jw3yY"
      },
      "source": [
        ""
      ],
      "execution_count": null,
      "outputs": []
    },
    {
      "cell_type": "markdown",
      "metadata": {
        "id": "Ez95FJ6JsH0j"
      },
      "source": [
        "___\n",
        "## Pausa: Objetos\n",
        "\n",
        "Hasta ahora he venido utilizando la palabra **objeto** sin darle mucha importancia. ¿Qué significa en realidad?\n",
        "\n",
        "- si han visto algo de Python, pueden haber escuchado que todo en Python es un objeto.\n",
        "\n",
        "En la siguiente semana estudiaremos a nivel muy básico qué es la programación orientada a objetos.\n",
        "\n",
        "Por ahora, nos basta con saber que los objetos cargan varias \"cosas\" con ellos, y podemos acceder a estas \"cosas\" utilizando la \"sintaxis punto (.)\" de Python.\n",
        "\n",
        "Por ejemplo, los números en Python tienen una variable asociada llamada `imag`, la cual representa su parte imaginaria:"
      ]
    },
    {
      "cell_type": "code",
      "metadata": {
        "id": "UbOSHpXFsH0k",
        "outputId": "a5f6d34b-4be3-4244-8882-77f7eed81405",
        "colab": {
          "base_uri": "https://localhost:8080/"
        }
      },
      "source": [
        "# Atributos real e imag = a + bi = 7 + 0i\n",
        "a=7\n",
        "a.imag, a.real"
      ],
      "execution_count": 23,
      "outputs": [
        {
          "output_type": "execute_result",
          "data": {
            "text/plain": [
              "(0, 7)"
            ]
          },
          "metadata": {},
          "execution_count": 23
        }
      ]
    },
    {
      "cell_type": "code",
      "metadata": {
        "id": "WKU8ILwcsH0k",
        "outputId": "d8cb3289-2c35-4e72-f6c5-37abe0cb26a3",
        "colab": {
          "base_uri": "https://localhost:8080/"
        }
      },
      "source": [
        "dir(a)"
      ],
      "execution_count": 24,
      "outputs": [
        {
          "output_type": "execute_result",
          "data": {
            "text/plain": [
              "['__abs__',\n",
              " '__add__',\n",
              " '__and__',\n",
              " '__bool__',\n",
              " '__ceil__',\n",
              " '__class__',\n",
              " '__delattr__',\n",
              " '__dir__',\n",
              " '__divmod__',\n",
              " '__doc__',\n",
              " '__eq__',\n",
              " '__float__',\n",
              " '__floor__',\n",
              " '__floordiv__',\n",
              " '__format__',\n",
              " '__ge__',\n",
              " '__getattribute__',\n",
              " '__getnewargs__',\n",
              " '__gt__',\n",
              " '__hash__',\n",
              " '__index__',\n",
              " '__init__',\n",
              " '__init_subclass__',\n",
              " '__int__',\n",
              " '__invert__',\n",
              " '__le__',\n",
              " '__lshift__',\n",
              " '__lt__',\n",
              " '__mod__',\n",
              " '__mul__',\n",
              " '__ne__',\n",
              " '__neg__',\n",
              " '__new__',\n",
              " '__or__',\n",
              " '__pos__',\n",
              " '__pow__',\n",
              " '__radd__',\n",
              " '__rand__',\n",
              " '__rdivmod__',\n",
              " '__reduce__',\n",
              " '__reduce_ex__',\n",
              " '__repr__',\n",
              " '__rfloordiv__',\n",
              " '__rlshift__',\n",
              " '__rmod__',\n",
              " '__rmul__',\n",
              " '__ror__',\n",
              " '__round__',\n",
              " '__rpow__',\n",
              " '__rrshift__',\n",
              " '__rshift__',\n",
              " '__rsub__',\n",
              " '__rtruediv__',\n",
              " '__rxor__',\n",
              " '__setattr__',\n",
              " '__sizeof__',\n",
              " '__str__',\n",
              " '__sub__',\n",
              " '__subclasshook__',\n",
              " '__truediv__',\n",
              " '__trunc__',\n",
              " '__xor__',\n",
              " 'bit_length',\n",
              " 'conjugate',\n",
              " 'denominator',\n",
              " 'from_bytes',\n",
              " 'imag',\n",
              " 'numerator',\n",
              " 'real',\n",
              " 'to_bytes']"
            ]
          },
          "metadata": {},
          "execution_count": 24
        }
      ]
    },
    {
      "cell_type": "code",
      "metadata": {
        "id": "Nz_JShBV1SVR",
        "outputId": "828594aa-9686-406f-8a23-a3d501d5abb3",
        "colab": {
          "base_uri": "https://localhost:8080/"
        }
      },
      "source": [
        "type(a)"
      ],
      "execution_count": 25,
      "outputs": [
        {
          "output_type": "execute_result",
          "data": {
            "text/plain": [
              "int"
            ]
          },
          "metadata": {},
          "execution_count": 25
        }
      ]
    },
    {
      "cell_type": "code",
      "metadata": {
        "id": "5JR-mG_V1WL9",
        "outputId": "5071c6fb-2cd3-4256-f549-85b3cc37b1da",
        "colab": {
          "base_uri": "https://localhost:8080/"
        }
      },
      "source": [
        "a.denominator, a.numerator"
      ],
      "execution_count": 27,
      "outputs": [
        {
          "output_type": "execute_result",
          "data": {
            "text/plain": [
              "(1, 7)"
            ]
          },
          "metadata": {},
          "execution_count": 27
        }
      ]
    },
    {
      "cell_type": "code",
      "metadata": {
        "id": "8FT2gw5t1kP2"
      },
      "source": [
        "b= (6+5j)/3"
      ],
      "execution_count": 29,
      "outputs": []
    },
    {
      "cell_type": "code",
      "metadata": {
        "id": "90N4IPzK1rLa",
        "outputId": "47ba721d-c55a-4b38-aaeb-5cb70b76411f",
        "colab": {
          "base_uri": "https://localhost:8080/"
        }
      },
      "source": [
        "b.real, b.imag"
      ],
      "execution_count": 30,
      "outputs": [
        {
          "output_type": "execute_result",
          "data": {
            "text/plain": [
              "(2.0, 1.6666666666666667)"
            ]
          },
          "metadata": {},
          "execution_count": 30
        }
      ]
    },
    {
      "cell_type": "code",
      "metadata": {
        "id": "hF4HyE-J17-j"
      },
      "source": [
        "c = 5/3"
      ],
      "execution_count": 31,
      "outputs": []
    },
    {
      "cell_type": "code",
      "metadata": {
        "id": "TZRRvlIv17rz",
        "outputId": "f9c55764-9590-4ad4-8fc8-9716ec939b1b",
        "colab": {
          "base_uri": "https://localhost:8080/"
        }
      },
      "source": [
        "c.as_integer_ratio()"
      ],
      "execution_count": 34,
      "outputs": [
        {
          "output_type": "execute_result",
          "data": {
            "text/plain": [
              "(7505999378950827, 4503599627370496)"
            ]
          },
          "metadata": {},
          "execution_count": 34
        }
      ]
    },
    {
      "cell_type": "markdown",
      "metadata": {
        "id": "NYL5R25DsH0k"
      },
      "source": [
        "Entre las \"cosas\" que los objetos cargan, también pueden haber funciones. \n",
        "\n",
        "Una función asociada a un objeto se llama **método**.\n",
        "\n",
        "Las \"cosas\" asociadas a los objetos, que no son funciones, son llamados **atributos** (ejemplo: imag)."
      ]
    },
    {
      "cell_type": "code",
      "metadata": {
        "id": "TKTate2CsH0k",
        "outputId": "f8f1b4e9-b10c-403e-c3b4-b6cb9612a99e",
        "colab": {
          "base_uri": "https://localhost:8080/"
        }
      },
      "source": [
        "# Método conjugate()\n",
        "b"
      ],
      "execution_count": 35,
      "outputs": [
        {
          "output_type": "execute_result",
          "data": {
            "text/plain": [
              "(2+1.6666666666666667j)"
            ]
          },
          "metadata": {},
          "execution_count": 35
        }
      ]
    },
    {
      "cell_type": "code",
      "metadata": {
        "id": "iKxUkUIZ2LaX",
        "outputId": "1ad3a503-86e6-484e-e0fd-4ecbd9ba3a8c",
        "colab": {
          "base_uri": "https://localhost:8080/"
        }
      },
      "source": [
        "b.conjugate()"
      ],
      "execution_count": 36,
      "outputs": [
        {
          "output_type": "execute_result",
          "data": {
            "text/plain": [
              "(2-1.6666666666666667j)"
            ]
          },
          "metadata": {},
          "execution_count": 36
        }
      ]
    },
    {
      "cell_type": "code",
      "metadata": {
        "id": "vVwE0DjB2Kwv"
      },
      "source": [
        ""
      ],
      "execution_count": null,
      "outputs": []
    },
    {
      "cell_type": "code",
      "metadata": {
        "id": "kGWE3PRP2tQD"
      },
      "source": [
        ""
      ],
      "execution_count": null,
      "outputs": []
    },
    {
      "cell_type": "markdown",
      "metadata": {
        "id": "1yH9mrAisH0l"
      },
      "source": [
        "Y si no sabemos qué hace un método determinado en un objeto, también podemos pasar métodos a la función `help()`, de la misma manera en que le pasamos funciones:"
      ]
    },
    {
      "cell_type": "code",
      "metadata": {
        "id": "OFhOw2VdsH0l"
      },
      "source": [
        "# help(objeto.metodo)\n"
      ],
      "execution_count": null,
      "outputs": []
    },
    {
      "cell_type": "markdown",
      "metadata": {
        "id": "A72gS1dlsH0l"
      },
      "source": [
        "Bueno, ¿y esto de que nos sirve?\n",
        "\n",
        "Pues las listas tienen una infinidad de métodos útiles que estaremos usando...\n",
        "___"
      ]
    },
    {
      "cell_type": "markdown",
      "metadata": {
        "id": "mo4xeKLNsH0l"
      },
      "source": [
        "## 1.4 Métodos de las listas\n",
        "\n",
        "`list.append()` modifica una lista añadiéndole un elemento en el final:"
      ]
    },
    {
      "cell_type": "code",
      "metadata": {
        "id": "MXqkuvfQsH0m",
        "outputId": "1ba5dc43-a966-43de-f34f-7d8a3b3b7d88",
        "colab": {
          "base_uri": "https://localhost:8080/"
        }
      },
      "source": [
        "planetas.append('Pluton')\n",
        "print(planetas)"
      ],
      "execution_count": 44,
      "outputs": [
        {
          "output_type": "stream",
          "name": "stdout",
          "text": [
            "['Mercurio', 'Venus', 'Tierra', 'Pluton', 'Pluton', 'Pluton', 'Pluton', 'Pluton', 'Pluton']\n"
          ]
        }
      ]
    },
    {
      "cell_type": "code",
      "metadata": {
        "id": "RygphqxnsH0m",
        "outputId": "351bf43e-06d7-46c9-9a5d-8290ff3662d3",
        "colab": {
          "base_uri": "https://localhost:8080/"
        }
      },
      "source": [
        "# Plutón también es un planeta\n",
        "print(planetas2)"
      ],
      "execution_count": 42,
      "outputs": [
        {
          "output_type": "stream",
          "name": "stdout",
          "text": [
            "None\n"
          ]
        }
      ]
    },
    {
      "cell_type": "code",
      "metadata": {
        "id": "Ui_Ru01XsH0m"
      },
      "source": [
        ""
      ],
      "execution_count": null,
      "outputs": []
    },
    {
      "cell_type": "markdown",
      "metadata": {
        "id": "pCseRf8TsH0m"
      },
      "source": [
        "¿Porqué no obtuvumos una salida en la celda de arriba?\n",
        "\n",
        "Verifiquemos la documentación del método append:"
      ]
    },
    {
      "cell_type": "markdown",
      "metadata": {
        "id": "8s6Zb3uWsH0m"
      },
      "source": [
        "**Comentario:** append es un método de todos los objetos tipo `list`, de manera que habríamos podido llamar `help(list.append)`. Sin embargo, si intentamos llamar `help(append)`, Python nos dirá que no existe nada con el nombre \"append\", pues `append` solo existe en el contexto de listas."
      ]
    },
    {
      "cell_type": "markdown",
      "metadata": {
        "id": "uJi9LaJ2sH0n"
      },
      "source": [
        "`list.pop()` remueve y devuelve el último elemento de una lista:"
      ]
    },
    {
      "cell_type": "code",
      "metadata": {
        "id": "jfdtzdF9sH0n",
        "outputId": "fb59b575-4fe4-4109-e9f6-8bfae91bf502",
        "colab": {
          "base_uri": "https://localhost:8080/",
          "height": 35
        }
      },
      "source": [
        "# Que Plutón siempre no es un planeta\n",
        "planetas.pop()"
      ],
      "execution_count": 45,
      "outputs": [
        {
          "output_type": "execute_result",
          "data": {
            "application/vnd.google.colaboratory.intrinsic+json": {
              "type": "string"
            },
            "text/plain": [
              "'Pluton'"
            ]
          },
          "metadata": {},
          "execution_count": 45
        }
      ]
    },
    {
      "cell_type": "code",
      "metadata": {
        "id": "PuwmygEhsH0n",
        "outputId": "68d896f8-0123-4b29-f38a-1bfbdfc3c71c",
        "colab": {
          "base_uri": "https://localhost:8080/"
        }
      },
      "source": [
        "planetas[:4]"
      ],
      "execution_count": 46,
      "outputs": [
        {
          "output_type": "execute_result",
          "data": {
            "text/plain": [
              "['Mercurio', 'Venus', 'Tierra', 'Pluton']"
            ]
          },
          "metadata": {},
          "execution_count": 46
        }
      ]
    },
    {
      "cell_type": "code",
      "metadata": {
        "id": "ic0zlJ5W4liI",
        "outputId": "a2d4c6f3-1395-435d-b397-f859bffc5555",
        "colab": {
          "base_uri": "https://localhost:8080/"
        }
      },
      "source": [
        "len(planetas)"
      ],
      "execution_count": 47,
      "outputs": [
        {
          "output_type": "execute_result",
          "data": {
            "text/plain": [
              "8"
            ]
          },
          "metadata": {},
          "execution_count": 47
        }
      ]
    },
    {
      "cell_type": "code",
      "metadata": {
        "id": "tCtvvuU0sH0n",
        "outputId": "fff1b4ac-bc5d-46bf-cd7e-afc68d6f1e04",
        "colab": {
          "base_uri": "https://localhost:8080/"
        }
      },
      "source": [
        "planetas"
      ],
      "execution_count": 48,
      "outputs": [
        {
          "output_type": "execute_result",
          "data": {
            "text/plain": [
              "['Mercurio',\n",
              " 'Venus',\n",
              " 'Tierra',\n",
              " 'Pluton',\n",
              " 'Pluton',\n",
              " 'Pluton',\n",
              " 'Pluton',\n",
              " 'Pluton']"
            ]
          },
          "metadata": {},
          "execution_count": 48
        }
      ]
    },
    {
      "cell_type": "code",
      "metadata": {
        "id": "G_wI1DRjsH0n",
        "outputId": "726bec24-a7e0-43c4-8c5c-aa97b33a3383",
        "colab": {
          "base_uri": "https://localhost:8080/"
        }
      },
      "source": [
        "planetas = ['Mercurio','Venus','Vierra','Marte','Jupiter','Staurno','Urano','Neptuno']\n",
        "planetas\n"
      ],
      "execution_count": 52,
      "outputs": [
        {
          "output_type": "execute_result",
          "data": {
            "text/plain": [
              "['Mercurio',\n",
              " 'Venus',\n",
              " 'Vierra',\n",
              " 'Marte',\n",
              " 'Jupiter',\n",
              " 'Staurno',\n",
              " 'Urano',\n",
              " 'Neptuno']"
            ]
          },
          "metadata": {},
          "execution_count": 52
        }
      ]
    },
    {
      "cell_type": "code",
      "metadata": {
        "id": "5WsKNfNI5jBi"
      },
      "source": [
        "planetas.append(\"Pulton\")\n",
        "planetas.append(\"Pulton\")"
      ],
      "execution_count": 55,
      "outputs": []
    },
    {
      "cell_type": "code",
      "metadata": {
        "id": "6L_4Efr95qUT",
        "outputId": "932510d2-baca-45e3-ebe6-b6f40bf7dd45",
        "colab": {
          "base_uri": "https://localhost:8080/"
        }
      },
      "source": [
        "planetas"
      ],
      "execution_count": 56,
      "outputs": [
        {
          "output_type": "execute_result",
          "data": {
            "text/plain": [
              "['Mercurio',\n",
              " 'Venus',\n",
              " 'Vierra',\n",
              " 'Marte',\n",
              " 'Jupiter',\n",
              " 'Staurno',\n",
              " 'Urano',\n",
              " 'Neptuno',\n",
              " 'Pulton',\n",
              " 'Pulton',\n",
              " 'Pulton']"
            ]
          },
          "metadata": {},
          "execution_count": 56
        }
      ]
    },
    {
      "cell_type": "code",
      "metadata": {
        "id": "PXzKDhZ55ut9",
        "outputId": "52e9490b-a2c7-4729-8fed-70c64992ca64",
        "colab": {
          "base_uri": "https://localhost:8080/",
          "height": 35
        }
      },
      "source": [
        "planetas.pop(-1)"
      ],
      "execution_count": 58,
      "outputs": [
        {
          "output_type": "execute_result",
          "data": {
            "application/vnd.google.colaboratory.intrinsic+json": {
              "type": "string"
            },
            "text/plain": [
              "'Pulton'"
            ]
          },
          "metadata": {},
          "execution_count": 58
        }
      ]
    },
    {
      "cell_type": "code",
      "metadata": {
        "id": "MocMDz5k52Jk",
        "outputId": "9bcf90d5-2190-4384-9e5e-d51fa5490864",
        "colab": {
          "base_uri": "https://localhost:8080/"
        }
      },
      "source": [
        "planetas"
      ],
      "execution_count": 59,
      "outputs": [
        {
          "output_type": "execute_result",
          "data": {
            "text/plain": [
              "['Mercurio',\n",
              " 'Venus',\n",
              " 'Vierra',\n",
              " 'Marte',\n",
              " 'Jupiter',\n",
              " 'Staurno',\n",
              " 'Urano',\n",
              " 'Neptuno',\n",
              " 'Pulton']"
            ]
          },
          "metadata": {},
          "execution_count": 59
        }
      ]
    },
    {
      "cell_type": "code",
      "metadata": {
        "id": "Cs8oac2-52fK"
      },
      "source": [
        ""
      ],
      "execution_count": null,
      "outputs": []
    },
    {
      "cell_type": "markdown",
      "metadata": {
        "id": "YW31Ia1CsH0n"
      },
      "source": [
        "### 1.4.1 Buscando en listas\n",
        "\n",
        "¿En qué lugar de los planetas se encuentra la Tierra? Podemos obtener su índice usando el método `list.index()`:"
      ]
    },
    {
      "cell_type": "code",
      "metadata": {
        "id": "Ebx-Dm38sH0o",
        "outputId": "a1b41270-2662-416b-90b5-bee71ec289d4",
        "colab": {
          "base_uri": "https://localhost:8080/"
        }
      },
      "source": [
        "planetas"
      ],
      "execution_count": 62,
      "outputs": [
        {
          "output_type": "execute_result",
          "data": {
            "text/plain": [
              "['Mercurio',\n",
              " 'Venus',\n",
              " 'Vierra',\n",
              " 'Marte',\n",
              " 'Jupiter',\n",
              " 'Staurno',\n",
              " 'Urano',\n",
              " 'Neptuno',\n",
              " 'Pulton']"
            ]
          },
          "metadata": {},
          "execution_count": 62
        }
      ]
    },
    {
      "cell_type": "code",
      "metadata": {
        "id": "DvK1j4LfsH0o",
        "outputId": "840678fe-128e-482f-d6db-429bd9d86c86",
        "colab": {
          "base_uri": "https://localhost:8080/"
        }
      },
      "source": [
        "# índice del planeta tierra\n",
        "planetas.index('Marte')"
      ],
      "execution_count": 69,
      "outputs": [
        {
          "output_type": "execute_result",
          "data": {
            "text/plain": [
              "3"
            ]
          },
          "metadata": {},
          "execution_count": 69
        }
      ]
    },
    {
      "cell_type": "code",
      "metadata": {
        "id": "lbtMrkAvsH0o"
      },
      "source": [
        ""
      ],
      "execution_count": null,
      "outputs": []
    },
    {
      "cell_type": "markdown",
      "metadata": {
        "id": "6Cw0mUAUsH0o"
      },
      "source": [
        "Está en el tercer lugar (recordar que el indizado en Python comienza en cero)\n",
        "\n",
        "¿En qué lugar está Plutón?"
      ]
    },
    {
      "cell_type": "code",
      "metadata": {
        "id": "BaEtWOTKsH0o"
      },
      "source": [
        "# índice del planeta plutón\n"
      ],
      "execution_count": null,
      "outputs": []
    },
    {
      "cell_type": "markdown",
      "metadata": {
        "id": "0KklbyR-sH0p"
      },
      "source": [
        "<font color=red> Error ... </font> ¡como debe ser!\n",
        "\n",
        "Para evitar este tipo de errores, existe el operador `in` para determinar si un elemento particular pertenece a una a una lista:"
      ]
    },
    {
      "cell_type": "code",
      "metadata": {
        "id": "Bhe-pA1rsH0p"
      },
      "source": [
        "planetas = ['Mercurio',\n",
        " 'Venus',\n",
        " 'Tierra',\n",
        " 'Marte',\n",
        " 'Jupiter',\n",
        " 'Staurno',\n",
        " 'Urano',\n",
        " 'Neptuno',\n",
        " 'Pulton']\n"
      ],
      "execution_count": 70,
      "outputs": []
    },
    {
      "cell_type": "code",
      "metadata": {
        "id": "xR_qK6sy7o4I",
        "outputId": "3392fc71-dc38-4381-ab64-c5904d3aad92",
        "colab": {
          "base_uri": "https://localhost:8080/",
          "height": 35
        }
      },
      "source": [
        "planetas.pop()"
      ],
      "execution_count": 72,
      "outputs": [
        {
          "output_type": "execute_result",
          "data": {
            "application/vnd.google.colaboratory.intrinsic+json": {
              "type": "string"
            },
            "text/plain": [
              "'Pulton'"
            ]
          },
          "metadata": {},
          "execution_count": 72
        }
      ]
    },
    {
      "cell_type": "code",
      "metadata": {
        "id": "mFLyg5g9sH0p",
        "outputId": "5e3b5299-a176-46a1-96d3-a22e1b79ec10",
        "colab": {
          "base_uri": "https://localhost:8080/"
        }
      },
      "source": [
        "# ¿Es la Tierra un planeta?\n",
        "if 'Tierra' in planetas:\n",
        "  print('Tierra es un planeta')"
      ],
      "execution_count": 73,
      "outputs": [
        {
          "output_type": "stream",
          "name": "stdout",
          "text": [
            "Tierra es un planeta\n"
          ]
        }
      ]
    },
    {
      "cell_type": "code",
      "metadata": {
        "id": "68JLBr1asH0x",
        "outputId": "9399c55e-4d35-4a80-c221-ebeac0c7f50b",
        "colab": {
          "base_uri": "https://localhost:8080/"
        }
      },
      "source": [
        "# ¿Es Plutón un planeta?\n",
        "'Pluton' in planetas\n"
      ],
      "execution_count": 76,
      "outputs": [
        {
          "output_type": "execute_result",
          "data": {
            "text/plain": [
              "False"
            ]
          },
          "metadata": {},
          "execution_count": 76
        }
      ]
    },
    {
      "cell_type": "code",
      "metadata": {
        "id": "TsVWkRXm8ICH",
        "outputId": "ace4063b-2508-4636-aa16-f2992d3271e1",
        "colab": {
          "base_uri": "https://localhost:8080/"
        }
      },
      "source": [
        "if 'Pluton' not in planetas:\n",
        "  print('Pluton no es un planeta')"
      ],
      "execution_count": 81,
      "outputs": [
        {
          "output_type": "stream",
          "name": "stdout",
          "text": [
            "Pluton no es un planeta\n"
          ]
        }
      ]
    },
    {
      "cell_type": "code",
      "metadata": {
        "id": "MH846grOsH0x"
      },
      "source": [
        "# Usar esto para evitar el error de arriba\n",
        "def is_inlist(string,lista):\n",
        "  if 'Pluton' in planetas:\n",
        "    planetas.index('Pluton')\n",
        "  else:\n",
        "    print(f'{string} no esta en la lista')\n",
        "  return planetas"
      ],
      "execution_count": 91,
      "outputs": []
    },
    {
      "cell_type": "code",
      "metadata": {
        "id": "iOpJLCyz-fvv",
        "outputId": "c0dff3f4-8f0c-4544-ab1b-6436c3373681",
        "colab": {
          "base_uri": "https://localhost:8080/"
        }
      },
      "source": [
        "is_inlist(\"Marte\",planetas)"
      ],
      "execution_count": 93,
      "outputs": [
        {
          "output_type": "stream",
          "name": "stdout",
          "text": [
            "Marte no esta en la lista\n"
          ]
        },
        {
          "output_type": "execute_result",
          "data": {
            "text/plain": [
              "['Mercurio',\n",
              " 'Venus',\n",
              " 'Tierra',\n",
              " 'Marte',\n",
              " 'Jupiter',\n",
              " 'Staurno',\n",
              " 'Urano',\n",
              " 'Neptuno']"
            ]
          },
          "metadata": {},
          "execution_count": 93
        }
      ]
    },
    {
      "cell_type": "markdown",
      "metadata": {
        "id": "yLlxs7KjsH0x"
      },
      "source": [
        "Hay otros métodos interesantes de las listas que no veremos. Si quieren aprende más acerca de todos los métodos y atributos de un objeto particular, podemos llamar la función `help()` sobre el objeto.\n",
        "\n",
        "Por ejemplo:"
      ]
    },
    {
      "cell_type": "code",
      "metadata": {
        "id": "g1YJ64TosH0y",
        "outputId": "e5f084de-0d07-4873-e890-876449c94a85",
        "colab": {
          "base_uri": "https://localhost:8080/"
        }
      },
      "source": [
        "primos"
      ],
      "execution_count": 94,
      "outputs": [
        {
          "output_type": "execute_result",
          "data": {
            "text/plain": [
              "[2, 5, 3, 7]"
            ]
          },
          "metadata": {},
          "execution_count": 94
        }
      ]
    },
    {
      "cell_type": "code",
      "metadata": {
        "id": "v0piH59u-_3g"
      },
      "source": [
        "primos.extend([11,13])"
      ],
      "execution_count": 96,
      "outputs": []
    },
    {
      "cell_type": "code",
      "metadata": {
        "id": "15KgOvhz_M2z",
        "outputId": "5a5fd8e3-5fa3-47e2-b150-9a581c5cdac2",
        "colab": {
          "base_uri": "https://localhost:8080/"
        }
      },
      "source": [
        "primos"
      ],
      "execution_count": 97,
      "outputs": [
        {
          "output_type": "execute_result",
          "data": {
            "text/plain": [
              "[2, 5, 3, 7, 11, 13]"
            ]
          },
          "metadata": {},
          "execution_count": 97
        }
      ]
    },
    {
      "cell_type": "code",
      "metadata": {
        "id": "UqZ_JgNX_QTP",
        "outputId": "68c9669d-0edc-4584-f3dd-02f2712752de",
        "colab": {
          "base_uri": "https://localhost:8080/"
        }
      },
      "source": [
        "primos.sort()\n"
      ],
      "execution_count": 99,
      "outputs": [
        {
          "output_type": "stream",
          "name": "stdout",
          "text": [
            "None\n"
          ]
        }
      ]
    },
    {
      "cell_type": "code",
      "metadata": {
        "id": "mvWKlCJU_m-j",
        "outputId": "ef4844cf-0dc2-4c91-ee27-2f5eb5134b27",
        "colab": {
          "base_uri": "https://localhost:8080/"
        }
      },
      "source": [
        "primos"
      ],
      "execution_count": 100,
      "outputs": [
        {
          "output_type": "execute_result",
          "data": {
            "text/plain": [
              "[2, 3, 5, 7, 11, 13]"
            ]
          },
          "metadata": {},
          "execution_count": 100
        }
      ]
    },
    {
      "cell_type": "code",
      "metadata": {
        "id": "K9OqfAJQ_pGM"
      },
      "source": [
        "primos.sort(reverse=True)"
      ],
      "execution_count": 102,
      "outputs": []
    },
    {
      "cell_type": "code",
      "metadata": {
        "id": "y_4wqyla_wMp",
        "outputId": "aec1d388-9d0c-427e-ee95-f451337869a1",
        "colab": {
          "base_uri": "https://localhost:8080/"
        }
      },
      "source": [
        "primos"
      ],
      "execution_count": 103,
      "outputs": [
        {
          "output_type": "execute_result",
          "data": {
            "text/plain": [
              "[13, 11, 7, 5, 3, 2]"
            ]
          },
          "metadata": {},
          "execution_count": 103
        }
      ]
    },
    {
      "cell_type": "code",
      "metadata": {
        "id": "VxqtBckz_72n"
      },
      "source": [
        "# Ejercicio: crear una funcion que reciba 2 parametros de entrada iter, list\n",
        "# Si la lista contiene menos de 5 valores extender esa lista con con esos valores\n"
      ],
      "execution_count": null,
      "outputs": []
    },
    {
      "cell_type": "code",
      "metadata": {
        "id": "rH1dSmdiAazy"
      },
      "source": [
        "def extension_tool(iter,lista):\n",
        "  if len(lista)<5:\n",
        "    lista.extend(iter)\n",
        "    print(liter) and print(\"iter\")\n",
        "  else:\n",
        "    print(lista)"
      ],
      "execution_count": 135,
      "outputs": []
    },
    {
      "cell_type": "code",
      "metadata": {
        "id": "knBedKv5Bdj4"
      },
      "source": [
        "lista = [1,2,3,4]"
      ],
      "execution_count": 105,
      "outputs": []
    },
    {
      "cell_type": "code",
      "metadata": {
        "id": "qad6HllRBi8w"
      },
      "source": [
        "liter = [5,6,7]"
      ],
      "execution_count": 106,
      "outputs": []
    },
    {
      "cell_type": "code",
      "metadata": {
        "id": "-wSPySpUB81p",
        "outputId": "af08e638-4253-4268-c4d7-b2265fa685b3",
        "colab": {
          "base_uri": "https://localhost:8080/"
        }
      },
      "source": [
        "len(lista)"
      ],
      "execution_count": 108,
      "outputs": [
        {
          "output_type": "execute_result",
          "data": {
            "text/plain": [
              "4"
            ]
          },
          "metadata": {},
          "execution_count": 108
        }
      ]
    },
    {
      "cell_type": "code",
      "metadata": {
        "id": "x5ax1a_8BnOR",
        "outputId": "498a96c9-8837-4447-b6b8-47be86f7dc62",
        "colab": {
          "base_uri": "https://localhost:8080/"
        }
      },
      "source": [
        "extension_tool(lista,liter)"
      ],
      "execution_count": 136,
      "outputs": [
        {
          "output_type": "stream",
          "name": "stdout",
          "text": [
            "[5, 6, 7, 1, 2, 3, 4, 5, 6, 7]\n"
          ]
        }
      ]
    },
    {
      "cell_type": "markdown",
      "metadata": {
        "id": "PKOr4Mm7sH0y"
      },
      "source": [
        "## 1.5 Tuplas\n",
        "\n",
        "También son arreglos de objetos similares a las listas. Se diferencian en dos maneras:\n",
        "\n",
        "- La sintaxis para crear tuplas usa paréntesis (o nada) en vez de brackets:"
      ]
    },
    {
      "cell_type": "code",
      "metadata": {
        "id": "UoITPUvosH0y"
      },
      "source": [
        "# O equivalentemente\n"
      ],
      "execution_count": null,
      "outputs": []
    },
    {
      "cell_type": "markdown",
      "metadata": {
        "id": "tBDeRDOKsH0y"
      },
      "source": [
        "- Las tuplas, a diferencia de las listas, no pueden ser modificadas (son objetos inmutables):"
      ]
    },
    {
      "cell_type": "code",
      "metadata": {
        "id": "DgWKOEA3sH0y"
      },
      "source": [
        "# Intentar modificar una tupla\n"
      ],
      "execution_count": null,
      "outputs": []
    },
    {
      "cell_type": "markdown",
      "metadata": {
        "id": "bsjAUudfsH0z"
      },
      "source": [
        "Las tuplas son usadas comúnmente para funciones que devuelven más de un valor.\n",
        "\n",
        "Por ejemplo, el método `as_integer_ratio()` de los objetos `float`, devuelve el numerador y el denominador en la forma de una tupla:"
      ]
    },
    {
      "cell_type": "code",
      "metadata": {
        "id": "qJOHhhgLsH0z"
      },
      "source": [
        "# as_integer_ratio\n"
      ],
      "execution_count": null,
      "outputs": []
    },
    {
      "cell_type": "code",
      "metadata": {
        "id": "PmPVnkg0sH0z"
      },
      "source": [
        "# Ayuda en el método float.as_integer_ratio\n"
      ],
      "execution_count": null,
      "outputs": []
    },
    {
      "cell_type": "markdown",
      "metadata": {
        "id": "z-2eZjLFsH0z"
      },
      "source": [
        "También pueden ser usadas como un atajo:"
      ]
    },
    {
      "cell_type": "code",
      "metadata": {
        "id": "sf0HoxbusH00"
      },
      "source": [
        ""
      ],
      "execution_count": null,
      "outputs": []
    },
    {
      "cell_type": "markdown",
      "metadata": {
        "id": "YeceLCHasH00"
      },
      "source": [
        "# 2. Ciclos o iteraciones\n",
        "\n",
        "## 2.1 Ciclos `for`\n",
        "\n",
        "Las iteraciones son una manera de ejecutar cierto bloque de código repetidamente:"
      ]
    },
    {
      "cell_type": "code",
      "metadata": {
        "id": "_QzsEDjZsH00"
      },
      "source": [
        "# Planetas, de nuevo\n"
      ],
      "execution_count": null,
      "outputs": []
    },
    {
      "cell_type": "code",
      "metadata": {
        "id": "51v0nXYxsH00"
      },
      "source": [
        "# Imprimir todos los planetas en la misma línea\n"
      ],
      "execution_count": null,
      "outputs": []
    },
    {
      "cell_type": "markdown",
      "metadata": {
        "id": "j6dSBJZSsH00"
      },
      "source": [
        "Para construir un ciclo `for`, se debe especificar:\n",
        "\n",
        "- el nombre de la variable que va a iterar (planeta),\n",
        "\n",
        "- el conjunto de valores sobre los que va a iterar la variable (planetas).\n",
        "\n",
        "Se usa la palabra `in`, en este caso, para hacerle entender a Python que *planeta* va a iterar sobre *planetas*.\n",
        "\n",
        "El objeto a la derecha de la palabra `in` puede ser cualquier objeto **iterable**. Básicamente, un iterable es cualquier arreglo (listas, tuplas, conjuntos, arreglos de numpy, series de pandas...).\n",
        "\n",
        "Por ejemplo, queremos hallar la multiplicación de todos los elementos de la siguiente tupla."
      ]
    },
    {
      "cell_type": "code",
      "metadata": {
        "id": "rtgxFb2vsH01"
      },
      "source": [
        ""
      ],
      "execution_count": null,
      "outputs": []
    },
    {
      "cell_type": "code",
      "metadata": {
        "id": "XzXT_x3AsH01"
      },
      "source": [
        "# Multiplicación como ciclo\n"
      ],
      "execution_count": null,
      "outputs": []
    },
    {
      "cell_type": "markdown",
      "metadata": {
        "id": "ytrCkQVZsH01"
      },
      "source": [
        "Incluso, podemos iterar sobre los caracteres de un string:"
      ]
    },
    {
      "cell_type": "code",
      "metadata": {
        "id": "sK_Xk_K1sH01"
      },
      "source": [
        "\n",
        "# Imprimir solo los caracteres en mayúscula, sin espacios, uno seguido de otro\n"
      ],
      "execution_count": null,
      "outputs": []
    },
    {
      "cell_type": "markdown",
      "metadata": {
        "id": "61X33RQUsH01"
      },
      "source": [
        "### 2.1.1 Función `range()`\n",
        "\n",
        "La función `range()` es una función que devuelve una secuencia de números. Es extremadamente útil para escribir ciclos for.\n",
        "\n",
        "Por ejemplo, si queremos repetir una acción 5 veces:"
      ]
    },
    {
      "cell_type": "code",
      "metadata": {
        "id": "OQKTcoSMsH02",
        "outputId": "b3bef340-7534-4515-e1f2-a6726c7fabff",
        "colab": {
          "base_uri": "https://localhost:8080/"
        }
      },
      "source": [
        "# For de 5 iteraciones\n",
        "planetas = ['Mercurio','Venus','Tierra']\n",
        "planetas"
      ],
      "execution_count": 6,
      "outputs": [
        {
          "output_type": "execute_result",
          "data": {
            "text/plain": [
              "['Mercurio', 'Venus', 'Tierra']"
            ]
          },
          "metadata": {},
          "execution_count": 6
        }
      ]
    },
    {
      "cell_type": "markdown",
      "metadata": {
        "id": "HVCk5U7jsH02"
      },
      "source": [
        "**Actividad:**\n",
        "\n",
        "1. Escribir una función que devuelva los primeros $n$ elementos de la sucesión de Fibonacci, usando un ciclo `for`."
      ]
    },
    {
      "cell_type": "code",
      "metadata": {
        "id": "B-bh_HYIsH02"
      },
      "source": [
        "# Código aquí\n",
        "\n"
      ],
      "execution_count": 5,
      "outputs": []
    },
    {
      "cell_type": "markdown",
      "metadata": {
        "id": "OFGWtTs1sH0-"
      },
      "source": [
        "## 2.2 Ciclos `while`\n",
        "\n",
        "Son otro tipo de ciclos en Python, los cuales iteran hasta que cierta condición deje de cumplirse.\n",
        "\n",
        "Por ejemplo:"
      ]
    },
    {
      "cell_type": "code",
      "metadata": {
        "id": "obCZE4U-sH0-"
      },
      "source": [
        ""
      ],
      "execution_count": null,
      "outputs": []
    },
    {
      "cell_type": "markdown",
      "metadata": {
        "id": "HDx2MXcVsH0-"
      },
      "source": [
        "El argumento de un ciclo `while` se evalúa como una condición lógica, y el ciclo se ejecuta hasta que dicha condición sea **False**."
      ]
    },
    {
      "cell_type": "markdown",
      "metadata": {
        "id": "SvvM9gQEsH0-"
      },
      "source": [
        "**Ejercicio:**\n",
        "\n",
        "1. Escribir una función que devuelva los primeros $n$ elementos de la sucesión de Fibonacci, usando un ciclo `while`.\n",
        "\n",
        "2. Escribir una función que devuelva los elementos menores a cierto número $x$ de la sucesión de Fibonacci, usando un ciclo `while`."
      ]
    },
    {
      "cell_type": "code",
      "metadata": {
        "id": "iQzaq077sH0_"
      },
      "source": [
        ""
      ],
      "execution_count": null,
      "outputs": []
    },
    {
      "cell_type": "code",
      "metadata": {
        "id": "xVUSgvGJsH0_"
      },
      "source": [
        "fibonacci_while(10)"
      ],
      "execution_count": null,
      "outputs": []
    },
    {
      "cell_type": "markdown",
      "metadata": {
        "id": "yETik5musH0_"
      },
      "source": [
        "## Pausa: Recursión\n",
        "\n",
        "Una manera adicional de ejecutar iteraciones se conoce como *recursión*, y sucede cuando definimos una función en términos de sí misma.\n",
        "\n",
        "Por ejemplo, el $n$-ésimo número de la secuencia de Fibonacci, recursivamente sería:"
      ]
    },
    {
      "cell_type": "code",
      "metadata": {
        "id": "6nIbFEvKsH1F"
      },
      "source": [
        ""
      ],
      "execution_count": null,
      "outputs": []
    },
    {
      "cell_type": "code",
      "metadata": {
        "id": "GLhZMjQ8sH1F"
      },
      "source": [
        ""
      ],
      "execution_count": null,
      "outputs": []
    },
    {
      "cell_type": "markdown",
      "metadata": {
        "id": "sBESZVNMsH1F"
      },
      "source": [
        "## 2.3 List comprehensions (no encuentro una traducción suficientemente buena de esto)\n",
        "\n",
        "List comprehension son una de las características más chidas de Python. La manera más fácil de entenderla, como muchas cosas, es revisando ejemplos:"
      ]
    },
    {
      "cell_type": "code",
      "metadata": {
        "id": "uIjB-vfMsH1G"
      },
      "source": [
        "# Primero, con ciclo for: listar los cuadrados de los 10 dígitos\n"
      ],
      "execution_count": null,
      "outputs": []
    },
    {
      "cell_type": "code",
      "metadata": {
        "id": "cwxT3jBhsH1G"
      },
      "source": [
        "# Ahora con una list comprehension\n"
      ],
      "execution_count": null,
      "outputs": []
    },
    {
      "cell_type": "markdown",
      "metadata": {
        "id": "PaeP2bYvsH1G"
      },
      "source": [
        "Podemos agregar, incluso, condicionales:"
      ]
    },
    {
      "cell_type": "code",
      "metadata": {
        "id": "wclnBjxmsH1G"
      },
      "source": [
        ""
      ],
      "execution_count": null,
      "outputs": []
    },
    {
      "cell_type": "code",
      "metadata": {
        "id": "kYneLi8FsH1G"
      },
      "source": [
        "# Ejemplo con los planetas\n"
      ],
      "execution_count": null,
      "outputs": []
    },
    {
      "cell_type": "code",
      "metadata": {
        "id": "R_xZuXersH1H"
      },
      "source": [
        ""
      ],
      "execution_count": null,
      "outputs": []
    },
    {
      "cell_type": "markdown",
      "metadata": {
        "id": "8lO-JRHYsH1H"
      },
      "source": [
        "Se puede usar para dar formato:"
      ]
    },
    {
      "cell_type": "code",
      "metadata": {
        "id": "uKx1J262sH1H"
      },
      "source": [
        "# str.upper()\n"
      ],
      "execution_count": null,
      "outputs": []
    },
    {
      "cell_type": "markdown",
      "metadata": {
        "id": "Rgw1C1B-sH1H"
      },
      "source": [
        "Es supremamente importante aprender esto, ya que es ampliamente utilizado y ayuda a reducir muchísimas líneas de código.\n",
        "\n",
        "Ejemplo: escribir la siguiente función usando un ciclo for."
      ]
    },
    {
      "cell_type": "code",
      "metadata": {
        "id": "IYRRkwh1sH1H"
      },
      "source": [
        ""
      ],
      "execution_count": null,
      "outputs": []
    },
    {
      "cell_type": "markdown",
      "metadata": {
        "id": "uNcbkjgNsH1I"
      },
      "source": [
        "Ahora, con list comprehensions:"
      ]
    },
    {
      "cell_type": "code",
      "metadata": {
        "id": "6yO0UyUysH1I"
      },
      "source": [
        ""
      ],
      "execution_count": null,
      "outputs": []
    },
    {
      "cell_type": "code",
      "metadata": {
        "id": "YKa862XtsH1I"
      },
      "source": [
        "# Probar la función\n"
      ],
      "execution_count": null,
      "outputs": []
    },
    {
      "cell_type": "markdown",
      "metadata": {
        "id": "dliuXU2KsH1I"
      },
      "source": [
        "# 3. Strings y diccionarios\n",
        "\n",
        "## 3.1 Strings\n",
        "\n",
        "Si hay algo en lo que Python es la ley es manipulando Strings. En esta sección veremos algunos de los métodos de los objetos tipo string, y operaciones de formateo (muy útiles en la limpieza de bases de datos, por cierto)."
      ]
    },
    {
      "cell_type": "markdown",
      "metadata": {
        "id": "rQ5F5jtusH1J"
      },
      "source": [
        "### 3.1.1 Sintaxis string\n",
        "\n",
        "Ya hemos visto varios ejemplos involucrando strings anteriormente. Solo para recordar:"
      ]
    },
    {
      "cell_type": "code",
      "metadata": {
        "id": "RNQF1BqvsH1J"
      },
      "source": [
        ""
      ],
      "execution_count": null,
      "outputs": []
    },
    {
      "cell_type": "markdown",
      "metadata": {
        "id": "9puc7KsCsH1J"
      },
      "source": [
        "Hay casos particulares para preferir una u otra:\n",
        "\n",
        "- Las comillas dobles son convenientes si tu string contiene un apóstrofe.\n",
        "\n",
        "- De manera similar, se puede crear fácilmente un string que contiene comillas dobles englobándolo en comillas simples.\n",
        "\n",
        "Ejemplos:"
      ]
    },
    {
      "cell_type": "code",
      "metadata": {
        "id": "vyDeYLEIsH1J"
      },
      "source": [
        ""
      ],
      "execution_count": null,
      "outputs": []
    },
    {
      "cell_type": "code",
      "metadata": {
        "id": "fNftv20qsH1J"
      },
      "source": [
        ""
      ],
      "execution_count": null,
      "outputs": []
    },
    {
      "cell_type": "code",
      "metadata": {
        "id": "LtoGuINVsH1J"
      },
      "source": [
        ""
      ],
      "execution_count": null,
      "outputs": []
    },
    {
      "cell_type": "markdown",
      "metadata": {
        "id": "0pheTZrysH1K"
      },
      "source": [
        "### 3.1.2 Los strings son iterables\n",
        "\n",
        "Los objetos tipo strings son cadenas de caracteres. Casi todo lo que vimos que le podíamos aplicar a una lista, se lo podemos aplicar a un string."
      ]
    },
    {
      "cell_type": "code",
      "metadata": {
        "id": "XH7FMRsmsH1K"
      },
      "source": [
        "# string de ejemplo\n"
      ],
      "execution_count": null,
      "outputs": []
    },
    {
      "cell_type": "code",
      "metadata": {
        "id": "QtXdxp_OsH1K"
      },
      "source": [
        "# Indexado\n"
      ],
      "execution_count": null,
      "outputs": []
    },
    {
      "cell_type": "code",
      "metadata": {
        "id": "W3CmOK8QsH1K"
      },
      "source": [
        "# Indexado multiple\n"
      ],
      "execution_count": null,
      "outputs": []
    },
    {
      "cell_type": "code",
      "metadata": {
        "id": "gjgp-wausH1L"
      },
      "source": [
        "# ¿Cuántos caracteres tiene?\n"
      ],
      "execution_count": null,
      "outputs": []
    },
    {
      "cell_type": "code",
      "metadata": {
        "id": "wXru0Yt7sH1L"
      },
      "source": [
        "# También podemos iterar sobre ellos\n"
      ],
      "execution_count": null,
      "outputs": []
    },
    {
      "cell_type": "markdown",
      "metadata": {
        "id": "fZ5nDabdsH1L"
      },
      "source": [
        "Sin embargo, una diferencia principal con las listas, es que son inmutables (no los podemos modificar)."
      ]
    },
    {
      "cell_type": "code",
      "metadata": {
        "id": "zH-SInz_sH1L"
      },
      "source": [
        ""
      ],
      "execution_count": null,
      "outputs": []
    },
    {
      "cell_type": "markdown",
      "metadata": {
        "id": "gW6_Te4ksH1L"
      },
      "source": [
        "### 3.1.3 Métodos de los strings\n",
        "\n",
        "Como las listas, los objetos tipo `str` tienen una gran cantidad de métodos útiles.\n",
        "\n",
        "Veamos algunos:"
      ]
    },
    {
      "cell_type": "code",
      "metadata": {
        "id": "gKHOfZzCsH1M"
      },
      "source": [
        "# string de ejemplo\n"
      ],
      "execution_count": null,
      "outputs": []
    },
    {
      "cell_type": "code",
      "metadata": {
        "id": "43dpPGtysH1M"
      },
      "source": [
        "# EN MAYÚSCULAS\n"
      ],
      "execution_count": null,
      "outputs": []
    },
    {
      "cell_type": "code",
      "metadata": {
        "id": "ubFXI7nIsH1M"
      },
      "source": [
        "# en minúsculas\n"
      ],
      "execution_count": null,
      "outputs": []
    },
    {
      "cell_type": "code",
      "metadata": {
        "id": "zW8BVdBlsH1M"
      },
      "source": [
        "# pregunta: comienza con?\n"
      ],
      "execution_count": null,
      "outputs": []
    },
    {
      "cell_type": "code",
      "metadata": {
        "id": "uqSFFjyisH1N"
      },
      "source": [
        "# pregunta: termina con?\n"
      ],
      "execution_count": null,
      "outputs": []
    },
    {
      "cell_type": "markdown",
      "metadata": {
        "id": "vs50r5UlsH1N"
      },
      "source": [
        "#### Entre listas y strings: métodos `split()` y `join()`\n",
        "\n",
        "El método `str.split()` convierte un string en una lista de strings más pequeños.\n",
        "\n",
        "Esto es supremamente útil para tomar de un string cada una de sus palabras:"
      ]
    },
    {
      "cell_type": "code",
      "metadata": {
        "id": "1RpudLMbsH1N"
      },
      "source": [
        ""
      ],
      "execution_count": null,
      "outputs": []
    },
    {
      "cell_type": "markdown",
      "metadata": {
        "id": "CvlhAncpsH1N"
      },
      "source": [
        "O para obtener cierta información:"
      ]
    },
    {
      "cell_type": "code",
      "metadata": {
        "id": "Eyf7sa0lsH1N"
      },
      "source": [
        "# Año, mes y día de una fecha especificada como string\n"
      ],
      "execution_count": null,
      "outputs": []
    },
    {
      "cell_type": "markdown",
      "metadata": {
        "id": "rR1PjoC5sH1d"
      },
      "source": [
        "`str.join()` nos sirve para devolver los pasos. \n",
        "\n",
        "Teniendo una lista de pequeños strings, la podemos convertir en un solo string usando el string sobre el que se llama como separador:"
      ]
    },
    {
      "cell_type": "code",
      "metadata": {
        "id": "nA-46_t3sH1e"
      },
      "source": [
        "# Con la fecha...\n"
      ],
      "execution_count": null,
      "outputs": []
    },
    {
      "cell_type": "markdown",
      "metadata": {
        "id": "bxokC3EvsH1e"
      },
      "source": [
        "### 3.1.4 Concatenación de strings\n",
        "\n",
        "Python nos permite concatenar strings con el operador `+`:"
      ]
    },
    {
      "cell_type": "code",
      "metadata": {
        "id": "cqZwSElusH1e"
      },
      "source": [
        "# Ejemplo\n"
      ],
      "execution_count": null,
      "outputs": []
    },
    {
      "cell_type": "markdown",
      "metadata": {
        "id": "mOXFFVHEsH1f"
      },
      "source": [
        "Sin embargo, hay que tener cuidado:"
      ]
    },
    {
      "cell_type": "code",
      "metadata": {
        "id": "gwxdQXvusH1f"
      },
      "source": [
        ""
      ],
      "execution_count": null,
      "outputs": []
    },
    {
      "cell_type": "code",
      "metadata": {
        "id": "sv9ghS4nsH1f"
      },
      "source": [
        "# Concatenar un string con un número\n"
      ],
      "execution_count": null,
      "outputs": []
    },
    {
      "cell_type": "markdown",
      "metadata": {
        "id": "pIwT8tsCsH1f"
      },
      "source": [
        "## 3.2 Diccionarios\n",
        "\n",
        "Los diccionarios son otros objetos de Python que mapean llaves a elementos:"
      ]
    },
    {
      "cell_type": "code",
      "metadata": {
        "id": "kOhSqciWsH1g"
      },
      "source": [
        ""
      ],
      "execution_count": null,
      "outputs": []
    },
    {
      "cell_type": "markdown",
      "metadata": {
        "id": "1kA88j_0sH1g"
      },
      "source": [
        "En este caso, los strings \"uno\", \"dos\", y \"tres\" son las llaves, y los números 1, 2 y 3 son sus valores correspondientes.\n",
        "\n",
        "Los valores son accesados con brackets, similarmente a las listas:"
      ]
    },
    {
      "cell_type": "code",
      "metadata": {
        "id": "iU0o2eKPsH1g"
      },
      "source": [
        ""
      ],
      "execution_count": null,
      "outputs": []
    },
    {
      "cell_type": "markdown",
      "metadata": {
        "id": "PSRNBHWhsH1g"
      },
      "source": [
        "Usamos una sintaxis similar para añadir otro par llave, valor"
      ]
    },
    {
      "cell_type": "code",
      "metadata": {
        "id": "S_IRhl36sH1h"
      },
      "source": [
        ""
      ],
      "execution_count": null,
      "outputs": []
    },
    {
      "cell_type": "markdown",
      "metadata": {
        "id": "CMbAduB0sH1h"
      },
      "source": [
        "O cambiar el valor asociado a una llave existente"
      ]
    },
    {
      "cell_type": "code",
      "metadata": {
        "id": "doaMkXwqsH1h"
      },
      "source": [
        ""
      ],
      "execution_count": null,
      "outputs": []
    },
    {
      "cell_type": "code",
      "metadata": {
        "id": "-UenokWSsH1h"
      },
      "source": [
        ""
      ],
      "execution_count": null,
      "outputs": []
    },
    {
      "cell_type": "markdown",
      "metadata": {
        "id": "1lubJGQjsH1i"
      },
      "source": [
        "### Navegando entre listas, tuplas, diccionarios: `zip`"
      ]
    },
    {
      "cell_type": "markdown",
      "metadata": {
        "id": "eOCz6DYRsH1i"
      },
      "source": [
        "Supongamos que tenemos dos listas que se corresponden:"
      ]
    },
    {
      "cell_type": "code",
      "metadata": {
        "id": "2UcgrmVIsH1x"
      },
      "source": [
        ""
      ],
      "execution_count": null,
      "outputs": []
    },
    {
      "cell_type": "markdown",
      "metadata": {
        "id": "NQLAvGCQsH1x"
      },
      "source": [
        "¿Cómo puedo asociar estos valores en un diccionario? Con `zip`:"
      ]
    },
    {
      "cell_type": "code",
      "metadata": {
        "id": "6eZLC7dRsH1y"
      },
      "source": [
        "# Primero, obtener la lista de pares\n"
      ],
      "execution_count": null,
      "outputs": []
    },
    {
      "cell_type": "code",
      "metadata": {
        "id": "o-2WBv9RsH1y"
      },
      "source": [
        "# Después obtener diccionario de relaciones\n"
      ],
      "execution_count": null,
      "outputs": []
    },
    {
      "cell_type": "code",
      "metadata": {
        "id": "Z7my3VXvsH1y"
      },
      "source": [
        ""
      ],
      "execution_count": null,
      "outputs": []
    },
    {
      "cell_type": "markdown",
      "metadata": {
        "id": "RxrN83fhsH1y"
      },
      "source": [
        "Al ser los diccionarios iterables, puedo iterar sobre ellos (valga la redundancia)"
      ]
    },
    {
      "cell_type": "code",
      "metadata": {
        "id": "ospZJTHSsH1z"
      },
      "source": [
        "# Iterar sobre diccionario\n"
      ],
      "execution_count": null,
      "outputs": []
    },
    {
      "cell_type": "code",
      "metadata": {
        "id": "oyugmJfBsH1z"
      },
      "source": [
        "# Iterar sobre valores\n"
      ],
      "execution_count": null,
      "outputs": []
    },
    {
      "cell_type": "code",
      "metadata": {
        "id": "tkaN6K4lsH1z"
      },
      "source": [
        "# Iterar sobre pares llave-valor\n"
      ],
      "execution_count": null,
      "outputs": []
    },
    {
      "cell_type": "code",
      "metadata": {
        "id": "5DJyRXGTsH1z"
      },
      "source": [
        ""
      ],
      "execution_count": null,
      "outputs": []
    },
    {
      "cell_type": "code",
      "metadata": {
        "id": "uL-X7T4RsH1z"
      },
      "source": [
        ""
      ],
      "execution_count": null,
      "outputs": []
    },
    {
      "cell_type": "markdown",
      "metadata": {
        "id": "QvvJ1SiosH10"
      },
      "source": [
        "___\n",
        "- Quiz 1 al comenzar la siguiente clase. Comprende clases 1 y 2."
      ]
    }
  ]
}